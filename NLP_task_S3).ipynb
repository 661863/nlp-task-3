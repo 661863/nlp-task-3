{
  "nbformat": 4,
  "nbformat_minor": 0,
  "metadata": {
    "colab": {
      "provenance": []
    },
    "kernelspec": {
      "name": "python3",
      "display_name": "Python 3"
    },
    "language_info": {
      "name": "python"
    }
  },
  "cells": [
    {
      "cell_type": "markdown",
      "source": [
        "STEMMING"
      ],
      "metadata": {
        "id": "EHZl5IIFBj4Z"
      }
    },
    {
      "cell_type": "code",
      "source": [
        "import spacy\n",
        "import nltk\n",
        "nlp = spacy.load('en_core_web_sm')\n",
        "X1 =\n",
        "doc = nlp(x1)\n",
        "tokens1 = [token.text for token in doc]\n",
        "print(tokens1)"
      ],
      "metadata": {
        "colab": {
          "base_uri": "https://localhost:8080/"
        },
        "id": "CRP3SnY034qQ",
        "outputId": "6ba850b2-1143-4461-c7ee-cf10cb3374a0"
      },
      "execution_count": 20,
      "outputs": [
        {
          "output_type": "stream",
          "name": "stdout",
          "text": [
            "['Technology', 'plays', 'a', 'crucial', 'role', 'in', 'STEM', 'education', 'by', 'providing', 'tools', 'and', 'resources', 'that', 'enhance', 'learning', 'and', 'engagement', '.', 'Interactive', 'simulations', ',', 'virtual', 'labs', ',', 'and', 'educational', 'apps', 'offer', 'students', 'immersive', 'experiences', 'to', 'explore', 'complex', 'scientific', 'concepts', 'and', 'develop', 'problem', '-', 'solving', 'skills', '.', 'Coding', 'platforms', 'and', 'robotics', 'kits', 'empower', 'students', 'to', 'create', 'and', 'innovate', ',', 'fostering', 'creativity', 'and', 'computational', 'thinking', '.', 'Moreover', ',', 'technology', 'enables', 'access', 'to', 'vast', 'amounts', 'of', 'information', 'and', 'connects', 'students', 'with', 'experts', 'and', 'peers', 'worldwide', ',', 'promoting', 'collaboration', 'and', 'knowledge', 'sharing', '.', 'By', 'integrating', 'technology', 'into', 'STEM', 'education', ',', 'we', 'can', 'equip', 'students', 'with', 'the', 'skills', 'and', 'knowledge', 'necessary', 'to', 'thrive', 'in', 'the', '21st', '-', 'century', 'workforce', '.']\n"
          ]
        }
      ]
    },
    {
      "cell_type": "code",
      "source": [
        "from nltk.stem import PorterStemmer\n",
        "ps = PorterStemmer()\n",
        "words = [\"running\", \"runner\", \"ran\"]\n",
        "stemmed_words = [ps.stem(word) for word in tokens1]\n",
        "print(stemmed_words)"
      ],
      "metadata": {
        "colab": {
          "base_uri": "https://localhost:8080/"
        },
        "id": "Gqwm59i40KZP",
        "outputId": "86b430fb-064f-4e4f-f625-cfcfb25b700c"
      },
      "execution_count": 21,
      "outputs": [
        {
          "output_type": "stream",
          "name": "stdout",
          "text": [
            "['technolog', 'play', 'a', 'crucial', 'role', 'in', 'stem', 'educ', 'by', 'provid', 'tool', 'and', 'resourc', 'that', 'enhanc', 'learn', 'and', 'engag', '.', 'interact', 'simul', ',', 'virtual', 'lab', ',', 'and', 'educ', 'app', 'offer', 'student', 'immers', 'experi', 'to', 'explor', 'complex', 'scientif', 'concept', 'and', 'develop', 'problem', '-', 'solv', 'skill', '.', 'code', 'platform', 'and', 'robot', 'kit', 'empow', 'student', 'to', 'creat', 'and', 'innov', ',', 'foster', 'creativ', 'and', 'comput', 'think', '.', 'moreov', ',', 'technolog', 'enabl', 'access', 'to', 'vast', 'amount', 'of', 'inform', 'and', 'connect', 'student', 'with', 'expert', 'and', 'peer', 'worldwid', ',', 'promot', 'collabor', 'and', 'knowledg', 'share', '.', 'by', 'integr', 'technolog', 'into', 'stem', 'educ', ',', 'we', 'can', 'equip', 'student', 'with', 'the', 'skill', 'and', 'knowledg', 'necessari', 'to', 'thrive', 'in', 'the', '21st', '-', 'centuri', 'workforc', '.']\n"
          ]
        }
      ]
    },
    {
      "cell_type": "code",
      "source": [
        "from nltk.stem import LancasterStemmer\n",
        "ls = LancasterStemmer()\n",
        "words = [\"running\", \"runner\", \"ran\"]\n",
        "stemmed_words = [ls.stem(word) for word in tokens1]\n",
        "print(stemmed_words)"
      ],
      "metadata": {
        "colab": {
          "base_uri": "https://localhost:8080/"
        },
        "id": "548uShqt0J-p",
        "outputId": "5c208917-b4e4-45c5-c2ab-7433977b2903"
      },
      "execution_count": 22,
      "outputs": [
        {
          "output_type": "stream",
          "name": "stdout",
          "text": [
            "['technolog', 'play', 'a', 'cruc', 'rol', 'in', 'stem', 'educ', 'by', 'provid', 'tool', 'and', 'resourc', 'that', 'enh', 'learn', 'and', 'eng', '.', 'interact', 'sim', ',', 'virt', 'lab', ',', 'and', 'educ', 'ap', 'off', 'stud', 'immers', 'expery', 'to', 'expl', 'complex', 'sci', 'conceiv', 'and', 'develop', 'problem', '-', 'solv', 'skil', '.', 'cod', 'platform', 'and', 'robot', 'kit', 'empow', 'stud', 'to', 'cre', 'and', 'innov', ',', 'fost', 'cre', 'and', 'comput', 'think', '.', 'moreov', ',', 'technolog', 'en', 'access', 'to', 'vast', 'amount', 'of', 'inform', 'and', 'connect', 'stud', 'with', 'expert', 'and', 'peer', 'worldwid', ',', 'promot', 'collab', 'and', 'knowledg', 'shar', '.', 'by', 'integr', 'technolog', 'into', 'stem', 'educ', ',', 'we', 'can', 'equip', 'stud', 'with', 'the', 'skil', 'and', 'knowledg', 'necess', 'to', 'thrive', 'in', 'the', '21st', '-', 'century', 'workforc', '.']\n"
          ]
        }
      ]
    },
    {
      "cell_type": "markdown",
      "source": [
        "LEMMITIZATION"
      ],
      "metadata": {
        "id": "ADa_Mgl7BUKi"
      }
    },
    {
      "cell_type": "code",
      "source": [
        "from nltk.stem import WordNetLemmatizer\n",
        "lemmatizer = WordNetLemmatizer()\n",
        "words = [\"changing\", \"studying\", \"better\", \"flies\"]\n",
        "lemmatized_words = [lemmatizer.lemmatize(word) for word in tokens1]\n",
        "print(lemmatized_words)\n",
        "\n",
        "lemmatized_word = [lemmatizer.lemmatize(word) for word in words]\n",
        "print(lemmatized_word)"
      ],
      "metadata": {
        "colab": {
          "base_uri": "https://localhost:8080/"
        },
        "id": "Jo_LjI4N4rsj",
        "outputId": "19f831fe-0259-4727-c21d-e6261b2c4138"
      },
      "execution_count": 31,
      "outputs": [
        {
          "output_type": "stream",
          "name": "stdout",
          "text": [
            "['Technology', 'play', 'a', 'crucial', 'role', 'in', 'STEM', 'education', 'by', 'providing', 'tool', 'and', 'resource', 'that', 'enhance', 'learning', 'and', 'engagement', '.', 'Interactive', 'simulation', ',', 'virtual', 'lab', ',', 'and', 'educational', 'apps', 'offer', 'student', 'immersive', 'experience', 'to', 'explore', 'complex', 'scientific', 'concept', 'and', 'develop', 'problem', '-', 'solving', 'skill', '.', 'Coding', 'platform', 'and', 'robotics', 'kit', 'empower', 'student', 'to', 'create', 'and', 'innovate', ',', 'fostering', 'creativity', 'and', 'computational', 'thinking', '.', 'Moreover', ',', 'technology', 'enables', 'access', 'to', 'vast', 'amount', 'of', 'information', 'and', 'connects', 'student', 'with', 'expert', 'and', 'peer', 'worldwide', ',', 'promoting', 'collaboration', 'and', 'knowledge', 'sharing', '.', 'By', 'integrating', 'technology', 'into', 'STEM', 'education', ',', 'we', 'can', 'equip', 'student', 'with', 'the', 'skill', 'and', 'knowledge', 'necessary', 'to', 'thrive', 'in', 'the', '21st', '-', 'century', 'workforce', '.']\n",
            "['changing', 'studying', 'better', 'fly']\n"
          ]
        }
      ]
    },
    {
      "cell_type": "code",
      "source": [],
      "metadata": {
        "id": "2YR_EKgb8Tix"
      },
      "execution_count": null,
      "outputs": []
    },
    {
      "cell_type": "code",
      "source": [
        "\n",
        "from nltk.stem import WordNetLemmatizer\n",
        "from nltk.corpus import wordnet\n",
        "\n",
        "def get_wordnet_pos(spacy_tag):\n",
        "    if spacy_tag.startswith('J'):\n",
        "        return wordnet.ADJ\n",
        "    elif spacy_tag.startswith('V'):\n",
        "        return wordnet.VERB\n",
        "    elif spacy_tag.startswith('N'):\n",
        "        return wordnet.NOUN\n",
        "    elif spacy_tag.startswith('R'):\n",
        "        return wordnet.ADV\n",
        "    else:\n",
        "        return wordnet.NOUN\n",
        "lemmatizer = WordNetLemmatizer()\n",
        "lemmatized_words = []\n",
        "for token in nlp(X1):\n",
        "    lemmatized_words.append(lemmatizer.lemmatize(token.text, get_wordnet_pos(token.tag_)))\n",
        "print(lemmatized_words)"
      ],
      "metadata": {
        "colab": {
          "base_uri": "https://localhost:8080/"
        },
        "id": "uiPNHQCP8TVd",
        "outputId": "aa7710b1-14fe-4ef3-fbc4-71dadd69d9ea"
      },
      "execution_count": 35,
      "outputs": [
        {
          "output_type": "stream",
          "name": "stdout",
          "text": [
            "['Technology', 'play', 'a', 'crucial', 'role', 'in', 'STEM', 'education', 'by', 'provide', 'tool', 'and', 'resource', 'that', 'enhance', 'learning', 'and', 'engagement', '.', 'Interactive', 'simulation', ',', 'virtual', 'lab', ',', 'and', 'educational', 'apps', 'offer', 'student', 'immersive', 'experience', 'to', 'explore', 'complex', 'scientific', 'concept', 'and', 'develop', 'problem', '-', 'solve', 'skill', '.', 'Coding', 'platform', 'and', 'robotics', 'kit', 'empower', 'student', 'to', 'create', 'and', 'innovate', ',', 'foster', 'creativity', 'and', 'computational', 'thinking', '.', 'Moreover', ',', 'technology', 'enable', 'access', 'to', 'vast', 'amount', 'of', 'information', 'and', 'connect', 'student', 'with', 'expert', 'and', 'peer', 'worldwide', ',', 'promote', 'collaboration', 'and', 'knowledge', 'sharing', '.', 'By', 'integrate', 'technology', 'into', 'STEM', 'education', ',', 'we', 'can', 'equip', 'student', 'with', 'the', 'skill', 'and', 'knowledge', 'necessary', 'to', 'thrive', 'in', 'the', '21st', '-', 'century', 'workforce', '.']\n"
          ]
        }
      ]
    }
  ]
}